{
 "cells": [
  {
   "cell_type": "code",
   "execution_count": 9,
   "id": "36c024b1-8dfb-49cc-a2bd-80b9e7af9fc3",
   "metadata": {
    "tags": []
   },
   "outputs": [],
   "source": [
    "from bs4 import BeautifulSoup\n",
    "import requests"
   ]
  },
  {
   "cell_type": "code",
   "execution_count": 13,
   "id": "0037bf8e-c186-44b2-8e59-56c2ec307890",
   "metadata": {
    "tags": []
   },
   "outputs": [],
   "source": [
    "link=\"https://www.amazon.in/Apple-iPhone-14-128GB-Blue/product-reviews/B0BDK62PDX\""
   ]
  },
  {
   "cell_type": "code",
   "execution_count": 14,
   "id": "a1fb264f-704e-456f-b1c8-834b77d9bf75",
   "metadata": {
    "tags": []
   },
   "outputs": [],
   "source": [
    "page=requests.get(link)"
   ]
  },
  {
   "cell_type": "code",
   "execution_count": 15,
   "id": "08d129df-2f52-42d6-97e5-a363bf435e8c",
   "metadata": {
    "tags": []
   },
   "outputs": [
    {
     "data": {
      "text/plain": [
       "<Response [200]>"
      ]
     },
     "execution_count": 15,
     "metadata": {},
     "output_type": "execute_result"
    }
   ],
   "source": [
    "page"
   ]
  },
  {
   "cell_type": "code",
   "execution_count": 16,
   "id": "fadf6251-19f1-41f1-94dc-4067df45d815",
   "metadata": {
    "tags": []
   },
   "outputs": [],
   "source": [
    "soup=BeautifulSoup(page.content,'html.parser')"
   ]
  },
  {
   "cell_type": "code",
   "execution_count": 17,
   "id": "00e54316-483a-4006-8e96-82187bb6970a",
   "metadata": {
    "tags": []
   },
   "outputs": [],
   "source": [
    "name=soup.find_all('span',attrs={'class':'a-profile-name'})"
   ]
  },
  {
   "cell_type": "code",
   "execution_count": 18,
   "id": "9f14e141-56ec-42d5-b4fc-4b786051025f",
   "metadata": {
    "tags": []
   },
   "outputs": [
    {
     "data": {
      "text/plain": [
       "[<span class=\"a-profile-name\">Kamleshsinh Thakor</span>,\n",
       " <span class=\"a-profile-name\">Rajendra Kumar</span>,\n",
       " <span class=\"a-profile-name\">Kamleshsinh Thakor</span>,\n",
       " <span class=\"a-profile-name\">Harsha n.</span>,\n",
       " <span class=\"a-profile-name\">Harsha n.</span>,\n",
       " <span class=\"a-profile-name\">Jayakrishnan</span>,\n",
       " <span class=\"a-profile-name\">Simran shrivastava</span>,\n",
       " <span class=\"a-profile-name\">Sujatha</span>,\n",
       " <span class=\"a-profile-name\">Shubh</span>,\n",
       " <span class=\"a-profile-name\">Rajendra Kumar</span>,\n",
       " <span class=\"a-profile-name\">DHRUBAJYOTI DEY</span>,\n",
       " <span class=\"a-profile-name\">Sai</span>,\n",
       " <span class=\"a-profile-name\">Rahul yadav</span>]"
      ]
     },
     "execution_count": 18,
     "metadata": {},
     "output_type": "execute_result"
    }
   ],
   "source": [
    "name"
   ]
  },
  {
   "cell_type": "code",
   "execution_count": 24,
   "id": "1eba73ed-bd24-4661-a04e-73b4bf8262fa",
   "metadata": {
    "tags": []
   },
   "outputs": [],
   "source": [
    "custname=[]\n",
    "for i in range (0,len(name)):\n",
    "    custname.append(name[i].get_text())"
   ]
  },
  {
   "cell_type": "code",
   "execution_count": 25,
   "id": "850243f8-72b1-414f-a895-233802423555",
   "metadata": {
    "tags": []
   },
   "outputs": [
    {
     "data": {
      "text/plain": [
       "['Kamleshsinh Thakor',\n",
       " 'Rajendra Kumar',\n",
       " 'Kamleshsinh Thakor',\n",
       " 'Harsha n.',\n",
       " 'Harsha n.',\n",
       " 'Jayakrishnan',\n",
       " 'Simran shrivastava',\n",
       " 'Sujatha',\n",
       " 'Shubh',\n",
       " 'Rajendra Kumar',\n",
       " 'DHRUBAJYOTI DEY',\n",
       " 'Sai',\n",
       " 'Rahul yadav']"
      ]
     },
     "execution_count": 25,
     "metadata": {},
     "output_type": "execute_result"
    }
   ],
   "source": [
    "custname"
   ]
  },
  {
   "cell_type": "code",
   "execution_count": 26,
   "id": "c0a9c059-7184-442a-8f96-3a2989fa2e31",
   "metadata": {
    "tags": []
   },
   "outputs": [
    {
     "data": {
      "text/plain": [
       "'Kamleshsinh Thakor'"
      ]
     },
     "execution_count": 26,
     "metadata": {},
     "output_type": "execute_result"
    }
   ],
   "source": [
    "custname.pop(2)"
   ]
  },
  {
   "cell_type": "code",
   "execution_count": 27,
   "id": "f7319519-79bf-406e-8e45-86a772fa1779",
   "metadata": {
    "tags": []
   },
   "outputs": [
    {
     "data": {
      "text/plain": [
       "'Sai'"
      ]
     },
     "execution_count": 27,
     "metadata": {},
     "output_type": "execute_result"
    }
   ],
   "source": [
    "custname.pop(10)"
   ]
  },
  {
   "cell_type": "code",
   "execution_count": 29,
   "id": "484ced20-425f-4472-b40a-62793ab4fffa",
   "metadata": {
    "tags": []
   },
   "outputs": [
    {
     "data": {
      "text/plain": [
       "'Rahul yadav'"
      ]
     },
     "execution_count": 29,
     "metadata": {},
     "output_type": "execute_result"
    }
   ],
   "source": [
    "custname.pop(10)"
   ]
  },
  {
   "cell_type": "code",
   "execution_count": 30,
   "id": "48406a8d-c2a4-43c5-8abd-5a463e6c0cde",
   "metadata": {
    "tags": []
   },
   "outputs": [
    {
     "data": {
      "text/plain": [
       "10"
      ]
     },
     "execution_count": 30,
     "metadata": {},
     "output_type": "execute_result"
    }
   ],
   "source": [
    "len(custname)"
   ]
  },
  {
   "cell_type": "code",
   "execution_count": 31,
   "id": "50388908-44e5-4be9-ad6b-07b48c686607",
   "metadata": {
    "tags": []
   },
   "outputs": [
    {
     "data": {
      "text/plain": [
       "[<a class=\"a-size-base a-link-normal review-title a-color-base review-title-content a-text-bold\" data-hook=\"review-title\" href=\"/gp/customer-reviews/R19RQLS39HAVTA?ASIN=B0BDK62PDX\"><i class=\"a-icon a-icon-star a-star-5 review-rating\" data-hook=\"review-star-rating\"><span class=\"a-icon-alt\">5.0 out of 5 stars</span></i><span class=\"a-letter-space\"></span>\n",
       " <span>Great product</span>\n",
       " </a>,\n",
       " <a class=\"a-size-base a-link-normal review-title a-color-base review-title-content a-text-bold\" data-hook=\"review-title\" href=\"/gp/customer-reviews/R3GE7SFI0MA6JE?ASIN=B0BDK62PDX\"><i class=\"a-icon a-icon-star a-star-5 review-rating\" data-hook=\"review-star-rating\"><span class=\"a-icon-alt\">5.0 out of 5 stars</span></i><span class=\"a-letter-space\"></span>\n",
       " <span>Android to Apple Transition - Not a smooth experience</span>\n",
       " </a>,\n",
       " <a class=\"a-size-base a-link-normal review-title a-color-base review-title-content a-text-bold\" data-hook=\"review-title\" href=\"/gp/customer-reviews/R26S7FGQM0SOKO?ASIN=B0BDK62PDX\"><i class=\"a-icon a-icon-star a-star-4 review-rating\" data-hook=\"review-star-rating\"><span class=\"a-icon-alt\">4.0 out of 5 stars</span></i><span class=\"a-letter-space\"></span>\n",
       " <span>It's visually appealing and upgraded device, surpassing my old iPhone 12</span>\n",
       " </a>,\n",
       " <a class=\"a-size-base a-link-normal review-title a-color-base review-title-content a-text-bold\" data-hook=\"review-title\" href=\"/gp/customer-reviews/R1SOL1P2S7UWZX?ASIN=B0BDK62PDX\"><i class=\"a-icon a-icon-star a-star-5 review-rating\" data-hook=\"review-star-rating\"><span class=\"a-icon-alt\">5.0 out of 5 stars</span></i><span class=\"a-letter-space\"></span>\n",
       " <span>Very happy</span>\n",
       " </a>,\n",
       " <a class=\"a-size-base a-link-normal review-title a-color-base review-title-content a-text-bold\" data-hook=\"review-title\" href=\"/gp/customer-reviews/R2JI4V7MX02T9A?ASIN=B0BDK62PDX\"><i class=\"a-icon a-icon-star a-star-5 review-rating\" data-hook=\"review-star-rating\"><span class=\"a-icon-alt\">5.0 out of 5 stars</span></i><span class=\"a-letter-space\"></span>\n",
       " <span>Nice</span>\n",
       " </a>,\n",
       " <a class=\"a-size-base a-link-normal review-title a-color-base review-title-content a-text-bold\" data-hook=\"review-title\" href=\"/gp/customer-reviews/R14M2OV1S4157O?ASIN=B0BDK62PDX\"><i class=\"a-icon a-icon-star a-star-5 review-rating\" data-hook=\"review-star-rating\"><span class=\"a-icon-alt\">5.0 out of 5 stars</span></i><span class=\"a-letter-space\"></span>\n",
       " <span>It’s Apple after all, but don’t buy from Amazon</span>\n",
       " </a>,\n",
       " <a class=\"a-size-base a-link-normal review-title a-color-base review-title-content a-text-bold\" data-hook=\"review-title\" href=\"/gp/customer-reviews/R2LG3RBHRTPXRM?ASIN=B0BDK62PDX\"><i class=\"a-icon a-icon-star a-star-1 review-rating\" data-hook=\"review-star-rating\"><span class=\"a-icon-alt\">1.0 out of 5 stars</span></i><span class=\"a-letter-space\"></span>\n",
       " <span>Phone is not working</span>\n",
       " </a>,\n",
       " <a class=\"a-size-base a-link-normal review-title a-color-base review-title-content a-text-bold\" data-hook=\"review-title\" href=\"/gp/customer-reviews/RCSAK4RLC2OSR?ASIN=B0BDK62PDX\"><i class=\"a-icon a-icon-star a-star-5 review-rating\" data-hook=\"review-star-rating\"><span class=\"a-icon-alt\">5.0 out of 5 stars</span></i><span class=\"a-letter-space\"></span>\n",
       " <span>Excellent phone but heats a little</span>\n",
       " </a>,\n",
       " <a class=\"a-size-base a-link-normal review-title a-color-base review-title-content a-text-bold\" data-hook=\"review-title\" href=\"/gp/customer-reviews/RFANCCLYW4PNJ?ASIN=B0BDK62PDX\"><i class=\"a-icon a-icon-star a-star-4 review-rating\" data-hook=\"review-star-rating\"><span class=\"a-icon-alt\">4.0 out of 5 stars</span></i><span class=\"a-letter-space\"></span>\n",
       " <span>Satisfactory purchase</span>\n",
       " </a>,\n",
       " <a class=\"a-size-base a-link-normal review-title a-color-base review-title-content a-text-bold\" data-hook=\"review-title\" href=\"/gp/customer-reviews/RUQ3G60N5LNKO?ASIN=B0BDK62PDX\"><i class=\"a-icon a-icon-star a-star-4 review-rating\" data-hook=\"review-star-rating\"><span class=\"a-icon-alt\">4.0 out of 5 stars</span></i><span class=\"a-letter-space\"></span>\n",
       " <span>Great buy</span>\n",
       " </a>]"
      ]
     },
     "execution_count": 31,
     "metadata": {},
     "output_type": "execute_result"
    }
   ],
   "source": [
    "title=soup.find_all('a',class_='review-title-content')\n",
    "title"
   ]
  },
  {
   "cell_type": "code",
   "execution_count": 32,
   "id": "2573606f-a331-4a6b-8cca-786de3919622",
   "metadata": {
    "tags": []
   },
   "outputs": [],
   "source": [
    "review_title=[]\n",
    "for i in range (0,len(title)):\n",
    "    review_title.append(title[i].get_text())"
   ]
  },
  {
   "cell_type": "code",
   "execution_count": 33,
   "id": "22a0c7bb-37db-412f-985d-fcc9a14be2a0",
   "metadata": {
    "tags": []
   },
   "outputs": [
    {
     "data": {
      "text/plain": [
       "['5.0 out of 5 stars\\nGreat product\\n',\n",
       " '5.0 out of 5 stars\\nAndroid to Apple Transition - Not a smooth experience\\n',\n",
       " \"4.0 out of 5 stars\\nIt's visually appealing and upgraded device, surpassing my old iPhone 12\\n\",\n",
       " '5.0 out of 5 stars\\nVery happy\\n',\n",
       " '5.0 out of 5 stars\\nNice\\n',\n",
       " '5.0 out of 5 stars\\nIt’s Apple after all, but don’t buy from Amazon\\n',\n",
       " '1.0 out of 5 stars\\nPhone is not working\\n',\n",
       " '5.0 out of 5 stars\\nExcellent phone but heats a little\\n',\n",
       " '4.0 out of 5 stars\\nSatisfactory purchase\\n',\n",
       " '4.0 out of 5 stars\\nGreat buy\\n']"
      ]
     },
     "execution_count": 33,
     "metadata": {},
     "output_type": "execute_result"
    }
   ],
   "source": [
    "review_title"
   ]
  },
  {
   "cell_type": "code",
   "execution_count": 34,
   "id": "83982b82-08b8-47e8-bbdf-d8960c2c8603",
   "metadata": {
    "tags": []
   },
   "outputs": [
    {
     "data": {
      "text/plain": [
       "10"
      ]
     },
     "execution_count": 34,
     "metadata": {},
     "output_type": "execute_result"
    }
   ],
   "source": [
    "len(review_title)"
   ]
  },
  {
   "cell_type": "code",
   "execution_count": 35,
   "id": "d4607fa3-59e5-4265-a622-a82da9f44b9b",
   "metadata": {
    "tags": []
   },
   "outputs": [
    {
     "data": {
      "text/plain": [
       "[<i class=\"a-icon a-icon-star a-star-5 review-rating\" data-hook=\"review-star-rating-view-point\"><span class=\"a-icon-alt\">5.0 out of 5 stars</span></i>,\n",
       " <i class=\"a-icon a-icon-star a-star-1 review-rating\" data-hook=\"review-star-rating-view-point\"><span class=\"a-icon-alt\">1.0 out of 5 stars</span></i>,\n",
       " <i class=\"a-icon a-icon-star a-star-5 review-rating\" data-hook=\"review-star-rating\"><span class=\"a-icon-alt\">5.0 out of 5 stars</span></i>,\n",
       " <i class=\"a-icon a-icon-star a-star-5 review-rating\" data-hook=\"review-star-rating\"><span class=\"a-icon-alt\">5.0 out of 5 stars</span></i>,\n",
       " <i class=\"a-icon a-icon-star a-star-4 review-rating\" data-hook=\"review-star-rating\"><span class=\"a-icon-alt\">4.0 out of 5 stars</span></i>,\n",
       " <i class=\"a-icon a-icon-star a-star-5 review-rating\" data-hook=\"review-star-rating\"><span class=\"a-icon-alt\">5.0 out of 5 stars</span></i>,\n",
       " <i class=\"a-icon a-icon-star a-star-5 review-rating\" data-hook=\"review-star-rating\"><span class=\"a-icon-alt\">5.0 out of 5 stars</span></i>,\n",
       " <i class=\"a-icon a-icon-star a-star-5 review-rating\" data-hook=\"review-star-rating\"><span class=\"a-icon-alt\">5.0 out of 5 stars</span></i>,\n",
       " <i class=\"a-icon a-icon-star a-star-1 review-rating\" data-hook=\"review-star-rating\"><span class=\"a-icon-alt\">1.0 out of 5 stars</span></i>,\n",
       " <i class=\"a-icon a-icon-star a-star-5 review-rating\" data-hook=\"review-star-rating\"><span class=\"a-icon-alt\">5.0 out of 5 stars</span></i>,\n",
       " <i class=\"a-icon a-icon-star a-star-4 review-rating\" data-hook=\"review-star-rating\"><span class=\"a-icon-alt\">4.0 out of 5 stars</span></i>,\n",
       " <i class=\"a-icon a-icon-star a-star-4 review-rating\" data-hook=\"review-star-rating\"><span class=\"a-icon-alt\">4.0 out of 5 stars</span></i>]"
      ]
     },
     "execution_count": 35,
     "metadata": {},
     "output_type": "execute_result"
    }
   ],
   "source": [
    "rating=soup.find_all('i',class_=\"review-rating\")\n",
    "rating"
   ]
  },
  {
   "cell_type": "code",
   "execution_count": 36,
   "id": "475b11ce-a01c-4c2d-a23d-6f06ba3d3204",
   "metadata": {
    "tags": []
   },
   "outputs": [
    {
     "data": {
      "text/plain": [
       "['5.0 out of 5 stars',\n",
       " '1.0 out of 5 stars',\n",
       " '5.0 out of 5 stars',\n",
       " '5.0 out of 5 stars',\n",
       " '4.0 out of 5 stars',\n",
       " '5.0 out of 5 stars',\n",
       " '5.0 out of 5 stars',\n",
       " '5.0 out of 5 stars',\n",
       " '1.0 out of 5 stars',\n",
       " '5.0 out of 5 stars',\n",
       " '4.0 out of 5 stars',\n",
       " '4.0 out of 5 stars']"
      ]
     },
     "execution_count": 36,
     "metadata": {},
     "output_type": "execute_result"
    }
   ],
   "source": [
    "rate=[]\n",
    "for i in range (0,len(rating)):\n",
    "    rate.append(rating[i].get_text())\n",
    "rate"
   ]
  },
  {
   "cell_type": "code",
   "execution_count": 37,
   "id": "c7205cc0-25a2-45fd-a76c-a5ee463ca955",
   "metadata": {
    "tags": []
   },
   "outputs": [
    {
     "data": {
      "text/plain": [
       "'5.0 out of 5 stars'"
      ]
     },
     "execution_count": 37,
     "metadata": {},
     "output_type": "execute_result"
    }
   ],
   "source": [
    "rate.pop(2)"
   ]
  },
  {
   "cell_type": "code",
   "execution_count": 38,
   "id": "c4f3d1f6-abe9-4463-a1aa-5b6a20a0dacb",
   "metadata": {
    "tags": []
   },
   "outputs": [
    {
     "data": {
      "text/plain": [
       "'4.0 out of 5 stars'"
      ]
     },
     "execution_count": 38,
     "metadata": {},
     "output_type": "execute_result"
    }
   ],
   "source": [
    "rate.pop(3)"
   ]
  },
  {
   "cell_type": "code",
   "execution_count": 39,
   "id": "5687bd6a-c31d-4916-ae9f-0658644d5212",
   "metadata": {
    "tags": []
   },
   "outputs": [
    {
     "data": {
      "text/plain": [
       "10"
      ]
     },
     "execution_count": 39,
     "metadata": {},
     "output_type": "execute_result"
    }
   ],
   "source": [
    "len(rate)"
   ]
  },
  {
   "cell_type": "code",
   "execution_count": 40,
   "id": "2c2e05a7-1c9c-4fa9-833f-056c5650358d",
   "metadata": {
    "tags": []
   },
   "outputs": [
    {
     "data": {
      "text/plain": [
       "[<span class=\"a-size-base review-text review-text-content\" data-hook=\"review-body\">\n",
       " <span>Great product</span>\n",
       " </span>,\n",
       " <span class=\"a-size-base review-text review-text-content\" data-hook=\"review-body\">\n",
       " <span>Always feels good to hold this masterpiece. This looks premium not just because of its branding, it has everything which makes it feel premium. However, despite all the looks and finish, the transition from Android to Apple is not very smooth and you may constantly lack certain features that can make life easy.<br/><br/>Overall good performance🔥<br/>Great camera quality 🌆<br/>Fast A15 Bionic performance ⚡<br/>Impressive Action mode video 🎥⠀⠀⠀⠀⠀⠀⠀⠀⠀⠀⠀</span>\n",
       " </span>,\n",
       " <span class=\"a-size-base review-text review-text-content\" data-hook=\"review-body\">\n",
       " <span>Pros:<br/><br/>  Good Looking (4/5): The Blue color variant adds to the aesthetic appeal, making the iPhone 14 an eye-catching device.<br/><br/>  Better than iPhone 12 (4/5): The iPhone 14 exhibits improvements over the iPhone 12, contributing to an enhanced user experience.<br/><br/>  Good Camera (4/5): The camera performance is commendable, capturing high-quality images and enhancing the overall photography experience.<br/><br/>In summary, the Apple iPhone 14 in Blue is a solid choice, offering a sleek design, improved features compared to the iPhone 12, and a reliable camera for capturing memorable moments.</span>\n",
       " </span>,\n",
       " <span class=\"a-size-base review-text review-text-content\" data-hook=\"review-body\">\n",
       " <span>The blue colour looks amazing, very happy to purchase my 1st Iphone🥰</span>\n",
       " </span>,\n",
       " <span class=\"a-size-base review-text review-text-content\" data-hook=\"review-body\">\n",
       " <span>Nice</span>\n",
       " </span>,\n",
       " <span class=\"a-size-base review-text review-text-content\" data-hook=\"review-body\">\n",
       " <span>Excellent product. Have been using Apple for 8 years now.<br/><br/>Amazon Review-<br/>Don’t buy from Amazon<br/>Wanted to write down as I regretted every second of this purchasing experience. Pathetic delivery experience. Amazon took orders more that they could handle and the delivery associates cannot keep up. The system needs more transparency. If it was going to take time that could be mentioned and particular slot of 3-4 hours could be given instead of wasting 2 full days of my time. The whole system is either designed in a stupid way, or a fraudulent way, but not both.<br/><br/>A product worth 70k was roaring on the streets and no one knew where. Customer support telling it’s with delivery associate, delivery associates telling they have not been assigned this consignment. Customer support just keeping the calls on indefinite hold as they had no other answers.</span>\n",
       " </span>,\n",
       " <span class=\"a-size-base review-text review-text-content\" data-hook=\"review-body\">\n",
       " <span>Recently took I phone 14 it’s not working now</span>\n",
       " </span>,\n",
       " <span class=\"a-size-base review-text review-text-content\" data-hook=\"review-body\">\n",
       " <span>The product received was good with scratches or damages. The delivery boy was very kind and good person. It was his new job and only one week since he joined. I also congratulated him. 😊😊</span>\n",
       " </span>,\n",
       " <span class=\"a-size-base review-text review-text-content\" data-hook=\"review-body\">\n",
       " <span>Go for it</span>\n",
       " </span>,\n",
       " <span class=\"a-size-base review-text review-text-content\" data-hook=\"review-body\">\n",
       " <span>I don’t recommend to buy , iPhone because prices keeps on dropping buy this in sale only to get maximum benefit, I bought it for 70k now it is 53 k so loss…🥹</span>\n",
       " </span>]"
      ]
     },
     "execution_count": 40,
     "metadata": {},
     "output_type": "execute_result"
    }
   ],
   "source": [
    "review=soup.find_all('span',{'data-hook':'review-body'})\n",
    "review"
   ]
  },
  {
   "cell_type": "code",
   "execution_count": 41,
   "id": "372bf178-b6bf-4f76-9d6a-015a265734a1",
   "metadata": {
    "tags": []
   },
   "outputs": [
    {
     "data": {
      "text/plain": [
       "['\\nGreat product\\n',\n",
       " '\\nAlways feels good to hold this masterpiece. This looks premium not just because of its branding, it has everything which makes it feel premium. However, despite all the looks and finish, the transition from Android to Apple is not very smooth and you may constantly lack certain features that can make life easy.Overall good performance🔥Great camera quality 🌆Fast A15 Bionic performance ⚡Impressive Action mode video 🎥⠀⠀⠀⠀⠀⠀⠀⠀⠀⠀⠀\\n',\n",
       " '\\nPros:  Good Looking (4/5): The Blue color variant adds to the aesthetic appeal, making the iPhone 14 an eye-catching device.  Better than iPhone 12 (4/5): The iPhone 14 exhibits improvements over the iPhone 12, contributing to an enhanced user experience.  Good Camera (4/5): The camera performance is commendable, capturing high-quality images and enhancing the overall photography experience.In summary, the Apple iPhone 14 in Blue is a solid choice, offering a sleek design, improved features compared to the iPhone 12, and a reliable camera for capturing memorable moments.\\n',\n",
       " '\\nThe blue colour looks amazing, very happy to purchase my 1st Iphone🥰\\n',\n",
       " '\\nNice\\n',\n",
       " '\\nExcellent product. Have been using Apple for 8 years now.Amazon Review-Don’t buy from AmazonWanted to write down as I regretted every second of this purchasing experience. Pathetic delivery experience. Amazon took orders more that they could handle and the delivery associates cannot keep up. The system needs more transparency. If it was going to take time that could be mentioned and particular slot of 3-4 hours could be given instead of wasting 2 full days of my time. The whole system is either designed in a stupid way, or a fraudulent way, but not both.A product worth 70k was roaring on the streets and no one knew where. Customer support telling it’s with delivery associate, delivery associates telling they have not been assigned this consignment. Customer support just keeping the calls on indefinite hold as they had no other answers.\\n',\n",
       " '\\nRecently took I phone 14 it’s not working now\\n',\n",
       " '\\nThe product received was good with scratches or damages. The delivery boy was very kind and good person. It was his new job and only one week since he joined. I also congratulated him. 😊😊\\n',\n",
       " '\\nGo for it\\n',\n",
       " '\\nI don’t recommend to buy , iPhone because prices keeps on dropping buy this in sale only to get maximum benefit, I bought it for 70k now it is 53 k so loss…🥹\\n']"
      ]
     },
     "execution_count": 41,
     "metadata": {},
     "output_type": "execute_result"
    }
   ],
   "source": [
    "review_content=[]\n",
    "for i in range (0,len(review)):\n",
    "    review_content.append(review[i].get_text())\n",
    "review_content"
   ]
  },
  {
   "cell_type": "code",
   "execution_count": 42,
   "id": "d265f307-0920-4908-9845-0fca61a96f14",
   "metadata": {
    "tags": []
   },
   "outputs": [
    {
     "data": {
      "text/plain": [
       "10"
      ]
     },
     "execution_count": 42,
     "metadata": {},
     "output_type": "execute_result"
    }
   ],
   "source": [
    "len(review_content)"
   ]
  },
  {
   "cell_type": "code",
   "execution_count": 43,
   "id": "03d45a56-7ac6-4685-9bbd-b27ccc379068",
   "metadata": {
    "tags": []
   },
   "outputs": [],
   "source": [
    "import pandas as pd"
   ]
  },
  {
   "cell_type": "code",
   "execution_count": 44,
   "id": "dd417ef0-be53-4e4e-a156-9e84adea1ee8",
   "metadata": {
    "tags": []
   },
   "outputs": [
    {
     "data": {
      "text/html": [
       "<div>\n",
       "<style scoped>\n",
       "    .dataframe tbody tr th:only-of-type {\n",
       "        vertical-align: middle;\n",
       "    }\n",
       "\n",
       "    .dataframe tbody tr th {\n",
       "        vertical-align: top;\n",
       "    }\n",
       "\n",
       "    .dataframe thead th {\n",
       "        text-align: right;\n",
       "    }\n",
       "</style>\n",
       "<table border=\"1\" class=\"dataframe\">\n",
       "  <thead>\n",
       "    <tr style=\"text-align: right;\">\n",
       "      <th></th>\n",
       "    </tr>\n",
       "  </thead>\n",
       "  <tbody>\n",
       "  </tbody>\n",
       "</table>\n",
       "</div>"
      ],
      "text/plain": [
       "Empty DataFrame\n",
       "Columns: []\n",
       "Index: []"
      ]
     },
     "execution_count": 44,
     "metadata": {},
     "output_type": "execute_result"
    }
   ],
   "source": [
    "df=pd.DataFrame()\n",
    "df"
   ]
  },
  {
   "cell_type": "code",
   "execution_count": 48,
   "id": "9a02c687-c023-4da6-8573-619014a40114",
   "metadata": {
    "tags": []
   },
   "outputs": [],
   "source": [
    "df['Customer Name']=custname\n"
   ]
  },
  {
   "cell_type": "code",
   "execution_count": 49,
   "id": "a408208d-1ce1-41bb-a1c0-5c1d352dc1fc",
   "metadata": {
    "tags": []
   },
   "outputs": [
    {
     "data": {
      "text/html": [
       "<div>\n",
       "<style scoped>\n",
       "    .dataframe tbody tr th:only-of-type {\n",
       "        vertical-align: middle;\n",
       "    }\n",
       "\n",
       "    .dataframe tbody tr th {\n",
       "        vertical-align: top;\n",
       "    }\n",
       "\n",
       "    .dataframe thead th {\n",
       "        text-align: right;\n",
       "    }\n",
       "</style>\n",
       "<table border=\"1\" class=\"dataframe\">\n",
       "  <thead>\n",
       "    <tr style=\"text-align: right;\">\n",
       "      <th></th>\n",
       "      <th>Customer Name</th>\n",
       "      <th>rating</th>\n",
       "      <th>review title</th>\n",
       "      <th>reviews</th>\n",
       "    </tr>\n",
       "  </thead>\n",
       "  <tbody>\n",
       "    <tr>\n",
       "      <th>0</th>\n",
       "      <td>Kamleshsinh Thakor</td>\n",
       "      <td>5.0 out of 5 stars</td>\n",
       "      <td>5.0 out of 5 stars\\nGreat product\\n</td>\n",
       "      <td>\\nGreat product\\n</td>\n",
       "    </tr>\n",
       "    <tr>\n",
       "      <th>1</th>\n",
       "      <td>Rajendra Kumar</td>\n",
       "      <td>1.0 out of 5 stars</td>\n",
       "      <td>5.0 out of 5 stars\\nAndroid to Apple Transitio...</td>\n",
       "      <td>\\nAlways feels good to hold this masterpiece. ...</td>\n",
       "    </tr>\n",
       "    <tr>\n",
       "      <th>2</th>\n",
       "      <td>Harsha n.</td>\n",
       "      <td>5.0 out of 5 stars</td>\n",
       "      <td>4.0 out of 5 stars\\nIt's visually appealing an...</td>\n",
       "      <td>\\nPros:  Good Looking (4/5): The Blue color va...</td>\n",
       "    </tr>\n",
       "    <tr>\n",
       "      <th>3</th>\n",
       "      <td>Harsha n.</td>\n",
       "      <td>5.0 out of 5 stars</td>\n",
       "      <td>5.0 out of 5 stars\\nVery happy\\n</td>\n",
       "      <td>\\nThe blue colour looks amazing, very happy to...</td>\n",
       "    </tr>\n",
       "    <tr>\n",
       "      <th>4</th>\n",
       "      <td>Jayakrishnan</td>\n",
       "      <td>5.0 out of 5 stars</td>\n",
       "      <td>5.0 out of 5 stars\\nNice\\n</td>\n",
       "      <td>\\nNice\\n</td>\n",
       "    </tr>\n",
       "    <tr>\n",
       "      <th>5</th>\n",
       "      <td>Simran shrivastava</td>\n",
       "      <td>5.0 out of 5 stars</td>\n",
       "      <td>5.0 out of 5 stars\\nIt’s Apple after all, but ...</td>\n",
       "      <td>\\nExcellent product. Have been using Apple for...</td>\n",
       "    </tr>\n",
       "    <tr>\n",
       "      <th>6</th>\n",
       "      <td>Sujatha</td>\n",
       "      <td>1.0 out of 5 stars</td>\n",
       "      <td>1.0 out of 5 stars\\nPhone is not working\\n</td>\n",
       "      <td>\\nRecently took I phone 14 it’s not working now\\n</td>\n",
       "    </tr>\n",
       "    <tr>\n",
       "      <th>7</th>\n",
       "      <td>Shubh</td>\n",
       "      <td>5.0 out of 5 stars</td>\n",
       "      <td>5.0 out of 5 stars\\nExcellent phone but heats ...</td>\n",
       "      <td>\\nThe product received was good with scratches...</td>\n",
       "    </tr>\n",
       "    <tr>\n",
       "      <th>8</th>\n",
       "      <td>Rajendra Kumar</td>\n",
       "      <td>4.0 out of 5 stars</td>\n",
       "      <td>4.0 out of 5 stars\\nSatisfactory purchase\\n</td>\n",
       "      <td>\\nGo for it\\n</td>\n",
       "    </tr>\n",
       "    <tr>\n",
       "      <th>9</th>\n",
       "      <td>DHRUBAJYOTI DEY</td>\n",
       "      <td>4.0 out of 5 stars</td>\n",
       "      <td>4.0 out of 5 stars\\nGreat buy\\n</td>\n",
       "      <td>\\nI don’t recommend to buy , iPhone because pr...</td>\n",
       "    </tr>\n",
       "  </tbody>\n",
       "</table>\n",
       "</div>"
      ],
      "text/plain": [
       "        Customer Name              rating  \\\n",
       "0  Kamleshsinh Thakor  5.0 out of 5 stars   \n",
       "1      Rajendra Kumar  1.0 out of 5 stars   \n",
       "2           Harsha n.  5.0 out of 5 stars   \n",
       "3           Harsha n.  5.0 out of 5 stars   \n",
       "4        Jayakrishnan  5.0 out of 5 stars   \n",
       "5  Simran shrivastava  5.0 out of 5 stars   \n",
       "6             Sujatha  1.0 out of 5 stars   \n",
       "7               Shubh  5.0 out of 5 stars   \n",
       "8      Rajendra Kumar  4.0 out of 5 stars   \n",
       "9     DHRUBAJYOTI DEY  4.0 out of 5 stars   \n",
       "\n",
       "                                        review title  \\\n",
       "0                5.0 out of 5 stars\\nGreat product\\n   \n",
       "1  5.0 out of 5 stars\\nAndroid to Apple Transitio...   \n",
       "2  4.0 out of 5 stars\\nIt's visually appealing an...   \n",
       "3                   5.0 out of 5 stars\\nVery happy\\n   \n",
       "4                         5.0 out of 5 stars\\nNice\\n   \n",
       "5  5.0 out of 5 stars\\nIt’s Apple after all, but ...   \n",
       "6         1.0 out of 5 stars\\nPhone is not working\\n   \n",
       "7  5.0 out of 5 stars\\nExcellent phone but heats ...   \n",
       "8        4.0 out of 5 stars\\nSatisfactory purchase\\n   \n",
       "9                    4.0 out of 5 stars\\nGreat buy\\n   \n",
       "\n",
       "                                             reviews  \n",
       "0                                  \\nGreat product\\n  \n",
       "1  \\nAlways feels good to hold this masterpiece. ...  \n",
       "2  \\nPros:  Good Looking (4/5): The Blue color va...  \n",
       "3  \\nThe blue colour looks amazing, very happy to...  \n",
       "4                                           \\nNice\\n  \n",
       "5  \\nExcellent product. Have been using Apple for...  \n",
       "6  \\nRecently took I phone 14 it’s not working now\\n  \n",
       "7  \\nThe product received was good with scratches...  \n",
       "8                                      \\nGo for it\\n  \n",
       "9  \\nI don’t recommend to buy , iPhone because pr...  "
      ]
     },
     "execution_count": 49,
     "metadata": {},
     "output_type": "execute_result"
    }
   ],
   "source": [
    "df['rating']=rate\n",
    "df['review title']=review_title\n",
    "df['reviews']=review_content\n",
    "df\n",
    "\n",
    "   "
   ]
  },
  {
   "cell_type": "code",
   "execution_count": 47,
   "id": "c5d51e83-6d27-41bb-b6b6-57383abccca9",
   "metadata": {
    "tags": []
   },
   "outputs": [],
   "source": [
    "df.to_csv('iphone_14_review.csv')"
   ]
  },
  {
   "cell_type": "code",
   "execution_count": null,
   "id": "c24eba7e-309e-4bf7-ab4c-1bc0f6e92c43",
   "metadata": {},
   "outputs": [],
   "source": []
  }
 ],
 "metadata": {
  "kernelspec": {
   "display_name": "Python 3 (ipykernel)",
   "language": "python",
   "name": "python3"
  },
  "language_info": {
   "codemirror_mode": {
    "name": "ipython",
    "version": 3
   },
   "file_extension": ".py",
   "mimetype": "text/x-python",
   "name": "python",
   "nbconvert_exporter": "python",
   "pygments_lexer": "ipython3",
   "version": "3.11.5"
  }
 },
 "nbformat": 4,
 "nbformat_minor": 5
}
